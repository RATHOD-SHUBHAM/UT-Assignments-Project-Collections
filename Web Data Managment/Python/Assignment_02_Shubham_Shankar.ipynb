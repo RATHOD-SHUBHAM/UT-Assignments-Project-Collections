{
 "cells": [
  {
   "cell_type": "markdown",
   "metadata": {},
   "source": [
    "# Name: Shubham Shankar.\n",
    "# UTA ID: 1001761068\n",
    "# Python Programming 2212-INSY-5336-003.\n",
    "# Homework 2.\n",
    "## References:\n",
    "###  - https://www.w3schools.com/python/\n",
    "###  - https://www.programiz.com/python-programming/methods/built-in/chr\n",
    "###  - https://www.programiz.com/python-programming/methods/built-in/ord\n",
    "###  - https://python.plainenglish.io/caesar-cipher-in-python-cc339686725b"
   ]
  },
  {
   "cell_type": "markdown",
   "metadata": {},
   "source": [
    "# ==========================================================="
   ]
  },
  {
   "cell_type": "markdown",
   "metadata": {},
   "source": [
    "# Question One"
   ]
  },
  {
   "cell_type": "markdown",
   "metadata": {},
   "source": [
    "## Logic:\n",
    "    - Program Execution starts from main\n",
    "    - The main function is called .Here the user is asked to enter a string.\n",
    "    - Once the user enter a string the user input is passed to a function called positive_generator\n",
    "    - Here the function converts the user input to lower case in order to avoid any error caused due to different casing\n",
    "    - The the function checks if the word not and bad are present in the user input.\n",
    "    - if either of the word ( not or bad ) is not present then we cannot perform our opearation\n",
    "    - if the word are present and not appears before bad then we replace the entire substring from (not...bad) with good.\n",
    "    - if the words are present but the word bad appears before not then we cannot perform our opeartion"
   ]
  },
  {
   "cell_type": "code",
   "execution_count": 1,
   "metadata": {},
   "outputs": [],
   "source": [
    "def positive_generator(Input):\n",
    "#     firstly convert user input to lower case. So as to prevent error occuring due to different casing\n",
    "    LowerCaseInput = Input.lower()\n",
    "    \n",
    "    # finding out if not and bad are present in the user input. Find returns -1 when then char are not found in the string\n",
    "    first = LowerCaseInput.find('not')\n",
    "    second = LowerCaseInput.find(\"bad\")\n",
    "    \n",
    "#     if either of the char ie not or bad is not found. Then we cannot perform our operation\n",
    "    if ((first == -1)  or (second==-1)):\n",
    "        print(\"Does not satisfy our condition from question.So returning the input\")\n",
    "        return Input\n",
    "    \n",
    "#     if both not and bad is present and not appears before bad then we wil replace the substring \" not ... bad \"with good\n",
    "    elif (first < second):\n",
    "            str_slice = LowerCaseInput[first:second+3]\n",
    "            LowerCaseInput = LowerCaseInput.replace(str_slice,\"good\")\n",
    "            return LowerCaseInput\n",
    "        \n",
    "#     if bad and not appear. but if bad appear before not then just return as we cannot perform any replace opearation\n",
    "    else:\n",
    "        print(\"Does not satisfy our condition from question.So returning the input\")\n",
    "        return Input"
   ]
  },
  {
   "cell_type": "code",
   "execution_count": 2,
   "metadata": {},
   "outputs": [],
   "source": [
    "def main():\n",
    "    # ask the user to enter a input string\n",
    "    Input = input(\"Enter the Input string: \")\n",
    "    # pass the user input to  positive_generator function where the logic of the code resides\n",
    "    print(positive_generator(Input))"
   ]
  },
  {
   "cell_type": "code",
   "execution_count": 3,
   "metadata": {},
   "outputs": [
    {
     "name": "stdout",
     "output_type": "stream",
     "text": [
      "Enter the Input string: The ice cream is not bad!\n",
      "the ice cream is good!\n"
     ]
    }
   ],
   "source": [
    "if __name__ == '__main__':\n",
    "    main() # program execution will start from here"
   ]
  },
  {
   "cell_type": "markdown",
   "metadata": {},
   "source": [
    "# ==========================================================="
   ]
  },
  {
   "cell_type": "markdown",
   "metadata": {},
   "source": [
    "# Question Two"
   ]
  },
  {
   "cell_type": "markdown",
   "metadata": {},
   "source": [
    "## Logic\n",
    "        - Import the required library. ie is regular expression is required\n",
    "        - Program execution start from main function\n",
    "        - In the main function. Program asks user to enter a input string and a input letter\n",
    "        - It then checks if the user enter a single charcater as a input letter. \n",
    "        - If not then the program asks the user to enter the right input\n",
    "        - Once the user successfully enters the right input. count letter function is being called\n",
    "        - count letter function converts the user input to lower case to avoid the conflict caused by cases\n",
    "        - it the replaces the special character in input with spaces\n",
    "        - then the sting is converted to a list\n",
    "        - now every element in the list is looped to check if the last second character matches with the user enter single letter\n",
    "        - if matched then the counter is increased and finally the count value is returned to user.\n",
    "        "
   ]
  },
  {
   "cell_type": "code",
   "execution_count": 4,
   "metadata": {},
   "outputs": [],
   "source": [
    "# Import the regular expression to handle the special characters\n",
    "import re"
   ]
  },
  {
   "cell_type": "code",
   "execution_count": 5,
   "metadata": {},
   "outputs": [],
   "source": [
    "def count_letter(Input_text,Input_letter):\n",
    "    # Initializing the count variable\n",
    "    count = 0\n",
    "    \n",
    "    # convert the inputs into lower case in order to handle error caused by cases\n",
    "    Input_letter = Input_letter.lower()\n",
    "\n",
    "    Input_text = Input_text.lower()\n",
    "\n",
    "    # removing the special character that are present in the string\n",
    "    Input_text = re.sub('[^a-zA-Z0-9 \\n]', '', Input_text)\n",
    "\n",
    "    # spilitting the string so as to get the character from the string\n",
    "    Input_text=Input_text.split(\" \")\n",
    "\n",
    "    # looping through each sub string and checking if the last but second element is same as the single letter\n",
    "    for i in Input_text:\n",
    "        # perform the count if there are two elements so as to get the last second element\n",
    "        if len(i) > 1:\n",
    "            # check the last second element matches with the user input letter\n",
    "            if Input_letter == i[-2]:\n",
    "                # if matched the increase the count by 1\n",
    "                count += 1\n",
    "    return count"
   ]
  },
  {
   "cell_type": "code",
   "execution_count": 6,
   "metadata": {},
   "outputs": [],
   "source": [
    "def main():\n",
    "    # asking user to enter his input request\n",
    "    Input_text = input(\"Enter a line of text of your choice: \")\n",
    "    Input_letter = input(\"Enter a single letter of your choice: \")\n",
    "    \n",
    "    # checking if the user entered a single letter if not keep asking the user to enter a single character\n",
    "    while(True):\n",
    "        try: \n",
    "        # if the user entered a single character\n",
    "            if (len(Input_letter) == 1):\n",
    "                break\n",
    "        # if the user didnot enter a single characer then keep asking him to enter a single character\n",
    "        except:\n",
    "            Input_letter = input(\"Please enter a Single letter like eg 'E' or 'B' etc : \")\n",
    "    \n",
    "    # call the function where the last second character if matched is counted and returned\n",
    "    count = count_letter(Input_text,Input_letter)\n",
    "    print(\"\\n\")\n",
    "    print(\"The letter {} appeared {} times as the second last letter of a word. \".format(Input_letter,count))"
   ]
  },
  {
   "cell_type": "code",
   "execution_count": 7,
   "metadata": {},
   "outputs": [
    {
     "name": "stdout",
     "output_type": "stream",
     "text": [
      "Enter a line of text of your choice: When the sun rises at dawn, the CHICKEN flies into the window.\n",
      "Enter a single letter of your choice: we\n"
     ]
    },
    {
     "ename": "KeyboardInterrupt",
     "evalue": "Interrupted by user",
     "output_type": "error",
     "traceback": [
      "\u001b[0;31m---------------------------------------------------------------------------\u001b[0m",
      "\u001b[0;31mKeyboardInterrupt\u001b[0m                         Traceback (most recent call last)",
      "\u001b[0;32m<ipython-input-7-b15039eb0796>\u001b[0m in \u001b[0;36m<module>\u001b[0;34m\u001b[0m\n\u001b[1;32m      1\u001b[0m \u001b[0;32mif\u001b[0m \u001b[0m__name__\u001b[0m \u001b[0;34m==\u001b[0m \u001b[0;34m'__main__'\u001b[0m\u001b[0;34m:\u001b[0m\u001b[0;34m\u001b[0m\u001b[0;34m\u001b[0m\u001b[0m\n\u001b[0;32m----> 2\u001b[0;31m     \u001b[0mmain\u001b[0m\u001b[0;34m(\u001b[0m\u001b[0;34m)\u001b[0m \u001b[0;31m# program execution will start from here\u001b[0m\u001b[0;34m\u001b[0m\u001b[0;34m\u001b[0m\u001b[0m\n\u001b[0m",
      "\u001b[0;32m<ipython-input-6-2a1a2e82901a>\u001b[0m in \u001b[0;36mmain\u001b[0;34m()\u001b[0m\n\u001b[1;32m     12\u001b[0m         \u001b[0;31m# if the user didnot enter a single characer then keep asking him to enter a single character\u001b[0m\u001b[0;34m\u001b[0m\u001b[0;34m\u001b[0m\u001b[0;34m\u001b[0m\u001b[0m\n\u001b[1;32m     13\u001b[0m         \u001b[0;32mexcept\u001b[0m\u001b[0;34m:\u001b[0m\u001b[0;34m\u001b[0m\u001b[0;34m\u001b[0m\u001b[0m\n\u001b[0;32m---> 14\u001b[0;31m             \u001b[0mInput_letter\u001b[0m \u001b[0;34m=\u001b[0m \u001b[0minput\u001b[0m\u001b[0;34m(\u001b[0m\u001b[0;34m\"Please enter a Single letter like eg 'E' or 'B' etc : \"\u001b[0m\u001b[0;34m)\u001b[0m\u001b[0;34m\u001b[0m\u001b[0;34m\u001b[0m\u001b[0m\n\u001b[0m\u001b[1;32m     15\u001b[0m \u001b[0;34m\u001b[0m\u001b[0m\n\u001b[1;32m     16\u001b[0m     \u001b[0;31m# call the function where the last second character if matched is counted and returned\u001b[0m\u001b[0;34m\u001b[0m\u001b[0;34m\u001b[0m\u001b[0;34m\u001b[0m\u001b[0m\n",
      "\u001b[0;32m~/opt/anaconda3/lib/python3.8/site-packages/ipykernel/kernelbase.py\u001b[0m in \u001b[0;36mraw_input\u001b[0;34m(self, prompt)\u001b[0m\n\u001b[1;32m    858\u001b[0m                 \u001b[0;34m\"raw_input was called, but this frontend does not support input requests.\"\u001b[0m\u001b[0;34m\u001b[0m\u001b[0;34m\u001b[0m\u001b[0m\n\u001b[1;32m    859\u001b[0m             )\n\u001b[0;32m--> 860\u001b[0;31m         return self._input_request(str(prompt),\n\u001b[0m\u001b[1;32m    861\u001b[0m             \u001b[0mself\u001b[0m\u001b[0;34m.\u001b[0m\u001b[0m_parent_ident\u001b[0m\u001b[0;34m,\u001b[0m\u001b[0;34m\u001b[0m\u001b[0;34m\u001b[0m\u001b[0m\n\u001b[1;32m    862\u001b[0m             \u001b[0mself\u001b[0m\u001b[0;34m.\u001b[0m\u001b[0m_parent_header\u001b[0m\u001b[0;34m,\u001b[0m\u001b[0;34m\u001b[0m\u001b[0;34m\u001b[0m\u001b[0m\n",
      "\u001b[0;32m~/opt/anaconda3/lib/python3.8/site-packages/ipykernel/kernelbase.py\u001b[0m in \u001b[0;36m_input_request\u001b[0;34m(self, prompt, ident, parent, password)\u001b[0m\n\u001b[1;32m    902\u001b[0m             \u001b[0;32mexcept\u001b[0m \u001b[0mKeyboardInterrupt\u001b[0m\u001b[0;34m:\u001b[0m\u001b[0;34m\u001b[0m\u001b[0;34m\u001b[0m\u001b[0m\n\u001b[1;32m    903\u001b[0m                 \u001b[0;31m# re-raise KeyboardInterrupt, to truncate traceback\u001b[0m\u001b[0;34m\u001b[0m\u001b[0;34m\u001b[0m\u001b[0;34m\u001b[0m\u001b[0m\n\u001b[0;32m--> 904\u001b[0;31m                 \u001b[0;32mraise\u001b[0m \u001b[0mKeyboardInterrupt\u001b[0m\u001b[0;34m(\u001b[0m\u001b[0;34m\"Interrupted by user\"\u001b[0m\u001b[0;34m)\u001b[0m \u001b[0;32mfrom\u001b[0m \u001b[0;32mNone\u001b[0m\u001b[0;34m\u001b[0m\u001b[0;34m\u001b[0m\u001b[0m\n\u001b[0m\u001b[1;32m    905\u001b[0m             \u001b[0;32mexcept\u001b[0m \u001b[0mException\u001b[0m \u001b[0;32mas\u001b[0m \u001b[0me\u001b[0m\u001b[0;34m:\u001b[0m\u001b[0;34m\u001b[0m\u001b[0;34m\u001b[0m\u001b[0m\n\u001b[1;32m    906\u001b[0m                 \u001b[0mself\u001b[0m\u001b[0;34m.\u001b[0m\u001b[0mlog\u001b[0m\u001b[0;34m.\u001b[0m\u001b[0mwarning\u001b[0m\u001b[0;34m(\u001b[0m\u001b[0;34m\"Invalid Message:\"\u001b[0m\u001b[0;34m,\u001b[0m \u001b[0mexc_info\u001b[0m\u001b[0;34m=\u001b[0m\u001b[0;32mTrue\u001b[0m\u001b[0;34m)\u001b[0m\u001b[0;34m\u001b[0m\u001b[0;34m\u001b[0m\u001b[0m\n",
      "\u001b[0;31mKeyboardInterrupt\u001b[0m: Interrupted by user"
     ]
    }
   ],
   "source": [
    "if __name__ == '__main__':\n",
    "    main() # program execution will start from here"
   ]
  },
  {
   "cell_type": "code",
   "execution_count": null,
   "metadata": {},
   "outputs": [],
   "source": []
  },
  {
   "cell_type": "markdown",
   "metadata": {},
   "source": [
    "# Question Three"
   ]
  },
  {
   "cell_type": "markdown",
   "metadata": {},
   "source": [
    "# Logic\n",
    "        - Program execution start from main function\n",
    "        - user is prompt to give two input\n",
    "        - input choice can only be either \"odd\" \"even\" or a integer greater than 2\n",
    "        - if the user enter odd then the every odd sequence character will be skipped\n",
    "        - if the user enters even then every even sequnce character will be skipped\n",
    "        - if the user wants to skip based on sequence then the else part gets executed\n",
    "        - here each index is compared with the seqence if the sequnce match then that element is skipped and the sequence is changed to its next sequence number.\n",
    "        "
   ]
  },
  {
   "cell_type": "code",
   "execution_count": 23,
   "metadata": {},
   "outputs": [],
   "source": [
    "# Input_string = \"abcdef\"\n",
    "def remove_element(Input_string,Input_choice):\n",
    "    # convert every character to lower case to avoid error caused by cases\n",
    "    Input_string = Input_string.lower()\n",
    "    newInput_string = \"\"\n",
    "\n",
    "    # if odd , start from index 1 and skip the next element\n",
    "    if Input_choice == \"odd\":\n",
    "        Input_choice.lower()\n",
    "        for i in range(1,len(Input_string),2):\n",
    "            newInput_string += Input_string[i]\n",
    "        return newInput_string\n",
    "            \n",
    "            \n",
    "    # if even start from index 0 and skip the next element\n",
    "    elif Input_choice == \"even\":\n",
    "        Input_choice.lower()\n",
    "        for i in range(0,len(Input_string),2):\n",
    "            newInput_string += Input_string[i]\n",
    "        return newInput_string\n",
    "\n",
    "    # for user given input\n",
    "    else:\n",
    "        countSequence = Input_choice\n",
    "\n",
    "        # loop through every element\n",
    "        for i in range(0,len(Input_string)):\n",
    "        # since index start from zero we need to reduce 1\n",
    "            skipSequence = Input_choice - 1\n",
    "            # check if the index is same as the one that we need to skip\n",
    "            # we are doin -1 because in real world index start from 1 but for python inndex start from 0\n",
    "            if i != skipSequence:\n",
    "                newInput_string = newInput_string + Input_string[i]\n",
    "            else:\n",
    "                # if the index match then i need to increment the user input to the next sequence\n",
    "                # eg if user input is 3 the next seq is 6 and so on\n",
    "                Input_choice = Input_choice + countSequence\n",
    "        return(newInput_string)"
   ]
  },
  {
   "cell_type": "code",
   "execution_count": 24,
   "metadata": {},
   "outputs": [],
   "source": [
    "def main():\n",
    "    Input_string = input(\"Enter the Input String: \")\n",
    "    Input_choice = input(\"Enter either odd, even, or number greater than 2: \")\n",
    "    \n",
    "    while(True):\n",
    "        try:\n",
    "            # check if the user enter either odd even or a integer number\n",
    "            \n",
    "            # check if input is odd or even\n",
    "            if (Input_choice == \"odd\" or Input_choice == \"even\" ):\n",
    "                print(remove_element(Input_string,Input_choice))\n",
    "                break\n",
    "            else:\n",
    "                # check if the numeric integer is greater than 2\n",
    "                Input_choice = int(Input_choice)\n",
    "                while(True):\n",
    "                    if(Input_choice > 2):\n",
    "                        break\n",
    "                    else:\n",
    "                        Input_choice = input(\"You didnot enter the right digit. Please enter number greater than 2: \")\n",
    "                print(remove_element(Input_string,Input_choice))\n",
    "                break\n",
    "        except:\n",
    "            # ask the user to enter the right input which can be either odd even or a numeric integer greater than 2\n",
    "            Input_choice = input(\"You didnot enter the right input. Please enter either odd, even, or number greater than 2: \")\n",
    "    "
   ]
  },
  {
   "cell_type": "code",
   "execution_count": 25,
   "metadata": {},
   "outputs": [
    {
     "name": "stdout",
     "output_type": "stream",
     "text": [
      "Enter the Input String: abcdef\n",
      "Enter either odd, even, or number greater than 2: sfed\n",
      "You didnot enter the right input. Please enter either odd, even, or number greater than 2: 1\n",
      "You didnot enter the right digit. Please enter number greater than 2: 4\n",
      "You didnot enter the right input. Please enter either odd, even, or number greater than 2: 4\n",
      "abcef\n"
     ]
    }
   ],
   "source": [
    "if __name__ == '__main__':\n",
    "    main() # program execution will start from here"
   ]
  },
  {
   "cell_type": "markdown",
   "metadata": {},
   "source": [
    "# ==========================================================="
   ]
  },
  {
   "cell_type": "markdown",
   "metadata": {},
   "source": [
    "# Question Four"
   ]
  },
  {
   "cell_type": "markdown",
   "metadata": {},
   "source": [
    "# Logic\n",
    "    - Program execution begin from main\n",
    "    - Program prompt user to enter a secret message and the number of position he wants to shift.\n",
    "    - function checks if the user enterd a positive integer\n",
    "    - then decrypt fucntion is called\n",
    "    - here the secret message is converted to lower case\n",
    "    - then every element is compared with the alphabets\n",
    "    - if they are matched then they are ciphered by converting it to ascii and shifting the element\n",
    "    - if they dont match then the characters are appended as it is and returned"
   ]
  },
  {
   "cell_type": "code",
   "execution_count": 26,
   "metadata": {},
   "outputs": [],
   "source": [
    "def encrypt(text,shift):\n",
    "    result = \"\"\n",
    "    text = text.lower()\n",
    "    char = 'abcdefghijklmnopqrstuvwxyz'\n",
    "    char_list = list(char)\n",
    "    \n",
    "    for i in range(len(text)):\n",
    "        char = text[i]\n",
    "        \n",
    "        if char in char_list:\n",
    "            ascii_value = ord(char)\n",
    "        \n",
    "            if (char.isupper()):\n",
    "                ascii_to_char = ((ascii_value + shift-65) %26 + 97)\n",
    "                result += chr(ascii_to_char)\n",
    "            else:\n",
    "                ascii_to_char = ((ascii_value + shift-97) %26 + 97)\n",
    "                result += chr(ascii_to_char)\n",
    "        else:\n",
    "            result += char\n",
    "    return result"
   ]
  },
  {
   "cell_type": "code",
   "execution_count": 27,
   "metadata": {},
   "outputs": [],
   "source": [
    "def main():\n",
    "    text =  input(\"Enter the secret message: \")\n",
    "    shift = input(\"Enter the number of position you want to shift: \")\n",
    "    while(True):\n",
    "        try:\n",
    "            shift = int(shift)\n",
    "            while(True):\n",
    "                if (shift > 0):\n",
    "                    break\n",
    "                else:\n",
    "                    shift = int(input(\"Enter postive number,the number of position you want to shift:  \"))\n",
    "            break\n",
    "        except:\n",
    "            shift = input(\"Enter a integer number,the number of position you want to shift: : \")\n",
    "    print (encrypt(text,shift))"
   ]
  },
  {
   "cell_type": "code",
   "execution_count": 28,
   "metadata": {},
   "outputs": [
    {
     "name": "stdout",
     "output_type": "stream",
     "text": [
      "Enter the secret message: Awesome: Party tonight!\n",
      "Enter the number of position you want to shift: 5\n",
      "fbjxtrj: ufwyd ytsnlmy!\n"
     ]
    }
   ],
   "source": [
    "if __name__ == '__main__':\n",
    "    main() # program execution will start from here"
   ]
  },
  {
   "cell_type": "markdown",
   "metadata": {},
   "source": [
    "# ==========================================================="
   ]
  },
  {
   "cell_type": "markdown",
   "metadata": {},
   "source": [
    "# Question Five"
   ]
  },
  {
   "cell_type": "markdown",
   "metadata": {},
   "source": [
    "## Logic:\n",
    "    - Program execution start from main function\n",
    "    - user is asked to enter the number of elements he wants in the list\n",
    "    - once user enter thats the control goes to combination_list\n",
    "    - In combination list user is asked to enter the content of the list\n",
    "    - then content from the list is displayed in combination"
   ]
  },
  {
   "cell_type": "code",
   "execution_count": 29,
   "metadata": {},
   "outputs": [],
   "source": [
    "def combination_list(number_of_ele):\n",
    "    List_1 = []\n",
    "    List_2 = []\n",
    "    \n",
    "    # add content in the list\n",
    "    for i in range(number_of_ele):\n",
    "        List_One = input(\"Enter the {}st element into list one:  \".format(i+1))\n",
    "        List_1 += List_One\n",
    "    for i in range(number_of_ele):\n",
    "        List_Two = input(\"Enter the {}st element into list two:  \".format(i+1))\n",
    "        List_2 += List_Two\n",
    "    print(\"List 1 = \",List_1)\n",
    "    print(\"List 2 = \",List_2)\n",
    "\n",
    "    # combine elements from two list\n",
    "    for i in List_1:\n",
    "        for j in List_2:\n",
    "            result = i+j\n",
    "            print(result)"
   ]
  },
  {
   "cell_type": "code",
   "execution_count": 30,
   "metadata": {},
   "outputs": [],
   "source": [
    "def main():\n",
    "    number_of_ele = input(\"Enter the number of elements you want to enter into a list: \")\n",
    "    \n",
    "    # check if the number is a positive integer\n",
    "    while(True):\n",
    "        try:\n",
    "            number_of_ele = int(number_of_ele)\n",
    "            while(True):\n",
    "                if (number_of_ele > 0):\n",
    "                    break\n",
    "                else:\n",
    "                    number_of_ele = int(input(\"enter postive number,Enter the number of elements you want to enter into a list:  \"))\n",
    "            break\n",
    "        except:\n",
    "            number_of_ele = input(\"Enter a integer number, the number of elements you want to enter into a list: \")\n",
    "            \n",
    "    combination_list(number_of_ele)\n",
    "    "
   ]
  },
  {
   "cell_type": "code",
   "execution_count": 31,
   "metadata": {},
   "outputs": [
    {
     "name": "stdout",
     "output_type": "stream",
     "text": [
      "Enter the number of elements you want to enter into a list: -1\n",
      "enter postive number,Enter the number of elements you want to enter into a list:  3\n",
      "Enter the 1st element into list one:  a\n",
      "Enter the 2st element into list one:  s\n",
      "Enter the 3st element into list one:  d\n",
      "Enter the 1st element into list two:  d\n",
      "Enter the 2st element into list two:  f\n",
      "Enter the 3st element into list two:  vc\n",
      "List 1 =  ['a', 's', 'd']\n",
      "List 2 =  ['d', 'f', 'v', 'c']\n",
      "ad\n",
      "af\n",
      "av\n",
      "ac\n",
      "sd\n",
      "sf\n",
      "sv\n",
      "sc\n",
      "dd\n",
      "df\n",
      "dv\n",
      "dc\n"
     ]
    }
   ],
   "source": [
    "if __name__ == \"__main__\":\n",
    "    main() # program execution will start from here"
   ]
  },
  {
   "cell_type": "code",
   "execution_count": null,
   "metadata": {},
   "outputs": [],
   "source": []
  }
 ],
 "metadata": {
  "kernelspec": {
   "display_name": "Python 3",
   "language": "python",
   "name": "python3"
  },
  "language_info": {
   "codemirror_mode": {
    "name": "ipython",
    "version": 3
   },
   "file_extension": ".py",
   "mimetype": "text/x-python",
   "name": "python",
   "nbconvert_exporter": "python",
   "pygments_lexer": "ipython3",
   "version": "3.8.3"
  }
 },
 "nbformat": 4,
 "nbformat_minor": 4
}
