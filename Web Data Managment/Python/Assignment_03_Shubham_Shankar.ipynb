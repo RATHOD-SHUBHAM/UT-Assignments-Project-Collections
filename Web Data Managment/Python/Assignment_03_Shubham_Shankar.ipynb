{
 "cells": [
  {
   "cell_type": "markdown",
   "metadata": {},
   "source": [
    "# Question One\n",
    "    \n",
    "        # Logic:\n",
    "            Program execution begins from the main function. Here user is asked to enter the File name for which he wants to calculate the number of line, words and character. Once the program gets the file name. It reads the line and perform the following steps."
   ]
  },
  {
   "cell_type": "markdown",
   "metadata": {},
   "source": [
    "#### Function to Count the number of Lines in a file\n",
    "        # Steps: \n",
    "            1. Initialize the counter to Zero.\n",
    "            2. Strip out the \\n from the end.\n",
    "            3. check if the file has any empty line . igonore those if present.\n",
    "            4. Count the number of lines present by going through each element in the list."
   ]
  },
  {
   "cell_type": "code",
   "execution_count": 1,
   "metadata": {},
   "outputs": [],
   "source": [
    "def CountLines(LineList):\n",
    "    countLine = 0              # Initialize counter to zero\n",
    "    for eachline in LineList:\n",
    "        # take each line and remove the \\n that gets appended\n",
    "        eachline = eachline.strip()\n",
    "        # ignore a space in  btn lines\n",
    "        if eachline:\n",
    "            countLine += 1\n",
    "    return countLine"
   ]
  },
  {
   "cell_type": "markdown",
   "metadata": {},
   "source": [
    "#### Function to Count the number of Words in a file\n",
    "        # Steps: \n",
    "            1. Initialize the counter to Zero.\n",
    "            2. Strip out the \\n from the end.\n",
    "            3. check if the file has any empty line . igonore those if present.\n",
    "            4. Split each line. When each line is split we get then words. \n",
    "            5. Count the number of words present by going through each element in the line."
   ]
  },
  {
   "cell_type": "code",
   "execution_count": 2,
   "metadata": {},
   "outputs": [],
   "source": [
    "def CountWords(LineList):\n",
    "    countWord = 0\n",
    "    for eachline in LineList:\n",
    "        eachline = eachline.strip()\n",
    "        # ignore a space in  btn lines\n",
    "        if eachline:\n",
    "            #break each line into a list of words\n",
    "            words = eachline.split()\n",
    "            # count the number of elements in that list\n",
    "            countWord += len(words)\n",
    "    return countWord"
   ]
  },
  {
   "cell_type": "markdown",
   "metadata": {},
   "source": [
    "#### Function to Count the number of Characters in a file\n",
    "        # Steps: \n",
    "            1. Initialize the counter to Zero.\n",
    "            2. Strip out the \\n from the end.\n",
    "            3. check if the file has any empty line . igonore those if present.\n",
    "            4. Split each line into characters by going through the characters fron each line. \n",
    "            5. Remove the white spaces/ space that gets added.\n",
    "            6. keep a count of every word and return the count."
   ]
  },
  {
   "cell_type": "code",
   "execution_count": 3,
   "metadata": {},
   "outputs": [],
   "source": [
    "def CountChar(LineList):\n",
    "    countChar = 0\n",
    "    for eachline in LineList:\n",
    "        eachline = eachline.strip()\n",
    "        # ignore a space in  btn lines\n",
    "        if eachline:\n",
    "            # go through every character in that line\n",
    "            for everyChar in eachline:\n",
    "                # remove the white spaces\n",
    "                everyChar=everyChar.strip()\n",
    "                countChar += len(everyChar)\n",
    "    return countChar"
   ]
  },
  {
   "cell_type": "markdown",
   "metadata": {},
   "source": [
    "#### Function to Count the number of Characters in a file excluding the special characters\n",
    "        # Steps: \n",
    "            1. Initialize the counter to Zero.\n",
    "            2. From Each line remove the special character\n",
    "            3. Strip out the \\n from the end.\n",
    "            4. check if the file has any empty line . igonore those if present.\n",
    "            5. Split each line into characters by going through the characters fron each line. \n",
    "            6. Remove the white spaces/ space that gets added.\n",
    "            7. keep a count of every word and return the count."
   ]
  },
  {
   "cell_type": "code",
   "execution_count": 4,
   "metadata": {},
   "outputs": [],
   "source": [
    "import re\n",
    "def CountCharNoSpecial(LineList):\n",
    "    countChar = 0\n",
    "    for eachline in LineList:\n",
    "        eachline = re.sub(r'[^\\w\\s]','',eachline)\n",
    "        eachline = eachline.strip()\n",
    "        # ignore a space in  btn lines\n",
    "        if eachline:\n",
    "            # go through every character in that line\n",
    "            for everyChar in eachline:\n",
    "                # remove the white spaces\n",
    "                everyChar=everyChar.strip()\n",
    "                countChar += len(everyChar)\n",
    "    return countChar"
   ]
  },
  {
   "cell_type": "code",
   "execution_count": 5,
   "metadata": {},
   "outputs": [],
   "source": [
    "def main():\n",
    "    while True:\n",
    "        try:\n",
    "            # ask user to enter a file name\n",
    "            FileName = input(\"What is the filename: \")\n",
    "\n",
    "            # open a file >> read the content >> close the file\n",
    "            FileHandle = open(FileName,\"r\")\n",
    "            LineList = FileHandle.readlines()\n",
    "            FileHandle.close()\n",
    "\n",
    "            #todo:  Count the number of line\n",
    "\n",
    "            number_of_lines = CountLines(LineList)   \n",
    "            print(\"\\n\")\n",
    "            print(\"The Number of lines : \",number_of_lines)\n",
    "\n",
    "            #todo: Count the number of words\n",
    "\n",
    "            number_of_words = CountWords(LineList)\n",
    "            print(\"\\n\")\n",
    "            print(\"The Number of words : \",number_of_words)\n",
    "\n",
    "\n",
    "\n",
    "            # todo: number of characters but not spaces\n",
    "            number_of_characters = CountChar(LineList)\n",
    "            print(\"\\n\")\n",
    "            print(\"The Number of characters : \",number_of_characters)\n",
    "\n",
    "            # todo: number of characters  with no special characters\n",
    "            number_of_characters_no_special = CountCharNoSpecial(LineList)\n",
    "            print(\"\\n\")\n",
    "            print(\"The Number of characters without special character : \",number_of_characters_no_special)\n",
    "\n",
    "            # Average length of a word\n",
    "            average_length_of_word = number_of_characters / number_of_words\n",
    "            print(\"\\n\")\n",
    "            print(\"The Average length of a word\",average_length_of_word)\n",
    "            \n",
    "            break\n",
    "\n",
    "        except:\n",
    "            print('Invalid File Name !! Check the File Name and enter again')\n",
    "        "
   ]
  },
  {
   "cell_type": "code",
   "execution_count": 6,
   "metadata": {},
   "outputs": [
    {
     "name": "stdout",
     "output_type": "stream",
     "text": [
      "What is the filename: one.txt\n",
      "\n",
      "\n",
      "The Number of lines :  23\n",
      "\n",
      "\n",
      "The Number of words :  177\n",
      "\n",
      "\n",
      "The Number of characters :  802\n",
      "\n",
      "\n",
      "The Number of characters without special character :  769\n",
      "\n",
      "\n",
      "The Average length of a word 4.531073446327683\n"
     ]
    }
   ],
   "source": [
    "if __name__ == '__main__':\n",
    "    main()"
   ]
  },
  {
   "cell_type": "markdown",
   "metadata": {},
   "source": [
    "### ======================================================================================="
   ]
  },
  {
   "cell_type": "markdown",
   "metadata": {},
   "source": [
    "# Question 2\n",
    "    \n",
    "    # Logic: \n",
    "        Program execution begins from main. User is asked to enter the movie file name. Once the file details are entered correctly. The file content are read and the file is closed.Now extract the reviwers name from the file as we know that value at position zero is the name of the reviwers. Store the name of the reviwers and the movie they reviwed along with the score as a key value pair in the dictionary. \n",
    "        Now program will ask the user if the user wants to compare the reviews between two reviwers or between one reviwers and entire database. Based on that the euclidain distance is calculated and scores are returned"
   ]
  },
  {
   "attachments": {},
   "cell_type": "markdown",
   "metadata": {},
   "source": [
    "## Function to Calculate Eucledian distance Between two user\n",
    "    #Steps: \n",
    "        1. Based on the user either one reviwers. or two reviwers are passed.\n",
    "        2. Counter that keep track of the sum of differences in the Euclidean score is intialized.\n",
    "        3. Then for both the reviwers we calculate the euclidianc distance. That is we subtract the movies reviewed by both the reviwers.\n",
    "        4. Once we get the distance we calculate the square root of the sum of differences."
   ]
  },
  {
   "cell_type": "code",
   "execution_count": 7,
   "metadata": {},
   "outputs": [],
   "source": [
    "def eucledeanDistance(reviewer_one,reviewer_two,user_movie_Dict):\n",
    "    if reviewer_one in user_movie_Dict.keys():\n",
    "        if reviewer_two in user_movie_Dict.keys():\n",
    "            sum = 0   # Counter that keep track score\n",
    "            for k in user_movie_Dict[reviewer_one].keys():\n",
    "                if k in user_movie_Dict[reviewer_two].keys():\n",
    "                    sum = sum + (user_movie_Dict[reviewer_one].get(k) - user_movie_Dict[reviewer_two].get(k)) * (user_movie_Dict[reviewer_one].get(k) - user_movie_Dict[reviewer_two].get(k))\n",
    "            return math.sqrt(sum)\n",
    "        return -2\n",
    "    return -1"
   ]
  },
  {
   "cell_type": "markdown",
   "metadata": {},
   "source": [
    "## Function to ask user to provide reviwers information\n",
    "    # Steps.\n",
    "        1. User is asked if he wants to compare two reviewers.\n",
    "            a. If yes. The user is asked to provide the name of the reviewers he wants to compare.\n",
    "            b. Once user provide the names of both the reviewer. Euclidian distance is calculated between them and the score is returned.\n",
    "        2. User is asked if he wants to compare one reviwers with the rest of the reviwers.\n",
    "            a. If yes. The user is asked for a reviwers with whom the entire db must be compared with.\n",
    "            b. Once the reviwers name is provided. Euclidian distance is calculated with every other reviwers in the database and score is returned.\n",
    "        3. If user doesnot want to perform any operation. he can just end the comparison here.\n",
    "            "
   ]
  },
  {
   "cell_type": "code",
   "execution_count": 8,
   "metadata": {},
   "outputs": [],
   "source": [
    "def UserInput(userName,user_movie_Dict):\n",
    "    while True:\n",
    "            print(\"\\n\")\n",
    "            userInput = int(input(\"What do you want to do? Input 1 for similarity between two reviewers, or Input 2 for similarity between one reviewer and all others in the database or 3 to quit: \"))\n",
    "            print(\"\\n\")\n",
    "            \n",
    "            \n",
    "            # if user enters 1. Then He wants to check the similarity between 2 reviewrs\n",
    "\n",
    "            if userInput == 1:\n",
    "                print(\"Select Reviewer's Name from Here: \",userName)\n",
    "                print(\"\\n\")\n",
    "                \n",
    "                reviewer_one = input(\"Provide Reviewer1 name: \")\n",
    "                print(\"\\n\")\n",
    "                if not reviewer_one:\n",
    "                    print(\"Input required!\")\n",
    "                    print(\"\\n\")\n",
    "                    \n",
    "                reviewer_two = input(\"Provide Reviewer2 name: \")\n",
    "                print(\"\\n\")\n",
    "                if not reviewer_two:\n",
    "                    print(\"Input required!\")\n",
    "                    print(\"\\n\")\n",
    "\n",
    "                score = eucledeanDistance(reviewer_one,reviewer_two,user_movie_Dict)\n",
    "                \n",
    "                if score == -1:\n",
    "                    print(\"Reviewer1 doesn't exist\")\n",
    "                elif score == -2:\n",
    "                    print(\"Reviewer2 doesn't exist\")\n",
    "                else:\n",
    "                    print(\"The similarity score between \",reviewer_one, \" and \" ,reviewer_two, \"is: \",round(score,4))\n",
    "                    \n",
    "                    \n",
    "             # if user enters 2. Then He wants to check the similarity of a reviewr with rest of the user in database\n",
    "        \n",
    "            elif userInput == 2:\n",
    "                print(\"Select Reviewer's Name from Here: \",userName)\n",
    "                print(\"\\n\")\n",
    "                \n",
    "                reviewer_one = input(\"Provide Reviewer name: \")\n",
    "                print(\"\\n\")\n",
    "                if not reviewer_one:\n",
    "                    print(\"Input required!\")\n",
    "                    print(\"\\n\")\n",
    "                \n",
    "                if reviewer_one in user_movie_Dict.keys():\n",
    "                    print(\"The Similarity Scores are: \")\n",
    "                    for reviewer_two in user_movie_Dict.keys():\n",
    "                        if reviewer_one == reviewer_two:\n",
    "                            continue\n",
    "                        score = eucledeanDistance(reviewer_one,reviewer_two,user_movie_Dict)\n",
    "                        print(reviewer_one,\"\\t\",reviewer_two,\"\\t\\t\",format(round(score,2)))\n",
    "                else:\n",
    "                    print(\"Reviewer doesn't exist\")\n",
    "                    \n",
    "            \n",
    "            # He wants to end\n",
    "            elif userInput == 3:\n",
    "                print(\"Goodbye!\")\n",
    "                break\n",
    "                \n",
    "                \n",
    "            else:\n",
    "                print(\"Please enter only 1,2 or 3 as input values\")"
   ]
  },
  {
   "cell_type": "markdown",
   "metadata": {},
   "source": [
    "## Function to open and read the content of the file\n",
    "    \n",
    "        # Steps.\n",
    "            1. User is prompted to enter a file name.\n",
    "            2. Once the file is enters. File content is read and file is closed.\n",
    "            3. In the file. Every element at index 0 is the name of the reviwer. so this information is stored in a variable.\n",
    "            4. The content of the file is seperated into key value pair, Where Key is the name of reviwers and value is the movie they reviwed."
   ]
  },
  {
   "cell_type": "code",
   "execution_count": 9,
   "metadata": {},
   "outputs": [],
   "source": [
    "import math\n",
    "def main():\n",
    "    \n",
    "    user_movie_Dict = {}\n",
    "    userName = []\n",
    "    \n",
    "    while True:\n",
    "        try:\n",
    "            moviefile = input(\"Give the name of the movie reviews file: \")\n",
    "    \n",
    "            # open file >> read the lines >> close the file\n",
    "            FileHandle = open(moviefile,'r')\n",
    "            Lines = FileHandle.readlines()\n",
    "            FileHandle.close()\n",
    "            \n",
    "            # for ever line read . Remove the \"\\n\" and seperate it based on the \",\"\n",
    "            for line in Lines:\n",
    "                line = line.strip()\n",
    "                data = line.split(',')\n",
    "                name = data[0]\n",
    "                \n",
    "                # store the value here --> apart from data[0] the remaining  data[1] & data[2] will be made as key value\n",
    "                movie_Dict = {}\n",
    "                \n",
    "                for i in range(1,len(data),2):\n",
    "                    movie_name = data[i]\n",
    "                    movie_review = float(data[i+1])\n",
    "                    movie_Dict[movie_name] = movie_review\n",
    "                    \n",
    "                    # store it in fom of key value pair >> data[0] will be key and data[1] and data[2] will be value\n",
    "                    user_movie_Dict[name] = movie_Dict\n",
    "\n",
    "\n",
    "\n",
    "        #   Allow user to select a reviewer name: \n",
    "            for key in user_movie_Dict.keys():\n",
    "                userName.append(key)\n",
    "\n",
    "#             function that allows user to select the review and compare\n",
    "            UserInput(userName,user_movie_Dict)\n",
    "            break\n",
    "\n",
    "        except:\n",
    "            print('Invalid File Name !! Check the File Name and enter again')"
   ]
  },
  {
   "cell_type": "code",
   "execution_count": 10,
   "metadata": {},
   "outputs": [
    {
     "name": "stdout",
     "output_type": "stream",
     "text": [
      "Give the name of the movie reviews file: QTwo.txt\n",
      "\n",
      "\n",
      "What do you want to do? Input 1 for similarity between two reviewers, or Input 2 for similarity between one reviewer and all others in the database or 3 to quit: 1\n",
      "\n",
      "\n",
      "Select Reviewer's Name from Here:  ['Nancy Pollock', 'Jack Holmes', 'Mary Doyle', 'Doug Redpath', 'Jill Brown', 'Trevor Chappell', 'Peter']\n",
      "\n",
      "\n",
      "Provide Reviewer1 name: Peter\n",
      "\n",
      "\n",
      "Provide Reviewer2 name: Trevor Chappell\n",
      "\n",
      "\n",
      "The similarity score between  Peter  and  Trevor Chappell is:  2.7386\n",
      "\n",
      "\n",
      "What do you want to do? Input 1 for similarity between two reviewers, or Input 2 for similarity between one reviewer and all others in the database or 3 to quit: 2\n",
      "\n",
      "\n",
      "Select Reviewer's Name from Here:  ['Nancy Pollock', 'Jack Holmes', 'Mary Doyle', 'Doug Redpath', 'Jill Brown', 'Trevor Chappell', 'Peter']\n",
      "\n",
      "\n",
      "Provide Reviewer name: Peter\n",
      "\n",
      "\n",
      "The Similarity Scores are: \n",
      "Peter \t Nancy Pollock \t\t 1.87\n",
      "Peter \t Jack Holmes \t\t 2.87\n",
      "Peter \t Mary Doyle \t\t 1.58\n",
      "Peter \t Doug Redpath \t\t 1.8\n",
      "Peter \t Jill Brown \t\t 1.5\n",
      "Peter \t Trevor Chappell \t\t 2.74\n",
      "\n",
      "\n",
      "What do you want to do? Input 1 for similarity between two reviewers, or Input 2 for similarity between one reviewer and all others in the database or 3 to quit: 3\n",
      "\n",
      "\n",
      "Goodbye!\n"
     ]
    }
   ],
   "source": [
    "# program execution begin here\n",
    "if __name__ == '__main__':\n",
    "    main()"
   ]
  },
  {
   "cell_type": "markdown",
   "metadata": {},
   "source": [
    "## ======================================================================\n",
    "##### New Update in Anaconda has a bug ==> Please restart the kernal multiple times if the program gets stuck on the first go.\n",
    "##### Thank you"
   ]
  }
 ],
 "metadata": {
  "kernelspec": {
   "display_name": "Python 3",
   "language": "python",
   "name": "python3"
  },
  "language_info": {
   "codemirror_mode": {
    "name": "ipython",
    "version": 3
   },
   "file_extension": ".py",
   "mimetype": "text/x-python",
   "name": "python",
   "nbconvert_exporter": "python",
   "pygments_lexer": "ipython3",
   "version": "3.8.5"
  }
 },
 "nbformat": 4,
 "nbformat_minor": 4
}
